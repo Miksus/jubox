{
 "cells": [
  {
   "cell_type": "raw",
   "metadata": {
    "tags": [
     "tag_a"
    ]
   },
   "source": [
    "Has tag_a"
   ]
  },
  {
   "cell_type": "raw",
   "metadata": {
    "tags": [
     "tag_b",
     "tag_c"
    ]
   },
   "source": [
    "Has tag_b and tag_c"
   ]
  },
  {
   "cell_type": "raw",
   "metadata": {
    "tags": [
     "tag_d"
    ]
   },
   "source": [
    "Has tag_d"
   ]
  },
  {
   "cell_type": "raw",
   "metadata": {},
   "source": [
    "Has no tag"
   ]
  }
 ],
 "metadata": {
  "celltoolbar": "Tags",
  "kernelspec": {
   "display_name": "Python 3",
   "language": "python",
   "name": "python3"
  },
  "language_info": {
   "codemirror_mode": {
    "name": "ipython",
    "version": 3
   },
   "file_extension": ".py",
   "mimetype": "text/x-python",
   "name": "python",
   "nbconvert_exporter": "python",
   "pygments_lexer": "ipython3",
   "version": "3.6.6"
  }
 },
 "nbformat": 4,
 "nbformat_minor": 4
}
