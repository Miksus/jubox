{
 "cells": [
  {
   "cell_type": "markdown",
   "metadata": {},
   "source": [
    "# Example ETL\n",
    "This file is an example ETL (Extract, Transform, Load) task. "
   ]
  },
  {
   "cell_type": "code",
   "execution_count": 1,
   "metadata": {
    "tags": [
     "parameters"
    ]
   },
   "outputs": [],
   "source": [
    "import datetime\n",
    "start_date = datetime.datetime(2020, 2, 16, 0, 0)\n",
    "end_date = datetime.datetime(2020, 2, 20, 0, 0)\n",
    "categories = ['A', 'B', 'D']"
   ]
  },
  {
   "cell_type": "markdown",
   "metadata": {},
   "source": [
    "# Imports and Settings"
   ]
  },
  {
   "cell_type": "code",
   "execution_count": 2,
   "metadata": {},
   "outputs": [],
   "source": [
    "import pandas as pd\n",
    "import numpy as np"
   ]
  },
  {
   "cell_type": "code",
   "execution_count": 3,
   "metadata": {},
   "outputs": [],
   "source": [
    "# Set matplotlib back-end\n",
    "%matplotlib inline"
   ]
  },
  {
   "cell_type": "markdown",
   "metadata": {},
   "source": [
    "## Functions used for the ETL"
   ]
  },
  {
   "cell_type": "code",
   "execution_count": 4,
   "metadata": {},
   "outputs": [],
   "source": [
    "def extract_data():\n",
    "    # Imagine this being data extraction\n",
    "    dt_range = pd.date_range(\"2020-02-01\", periods=50, freq=\"D\")\n",
    "    return pd.DataFrame({\n",
    "            \"date\": np.random.choice(dt_range, 700),\n",
    "            \"category\": np.random.choice(list(\"ABCDE\"), 700),\n",
    "            \"value\": np.random.random(700),\n",
    "        }\n",
    "    )\n",
    "\n",
    "def transform_data(df):\n",
    "    return df.pivot_table(\n",
    "        columns=\"category\",\n",
    "        index=\"date\",\n",
    "        values=\"value\",\n",
    "        aggfunc=\"sum\"\n",
    "    )\n",
    "\n",
    "def load_data(df):\n",
    "    # Pretending to load data to some place\n",
    "    pass\n",
    "    "
   ]
  },
  {
   "cell_type": "markdown",
   "metadata": {},
   "source": [
    "# Job"
   ]
  },
  {
   "cell_type": "markdown",
   "metadata": {},
   "source": [
    "## Extract"
   ]
  },
  {
   "cell_type": "code",
   "execution_count": 5,
   "metadata": {},
   "outputs": [
    {
     "data": {
      "text/html": [
       "<div>\n",
       "<style scoped>\n",
       "    .dataframe tbody tr th:only-of-type {\n",
       "        vertical-align: middle;\n",
       "    }\n",
       "\n",
       "    .dataframe tbody tr th {\n",
       "        vertical-align: top;\n",
       "    }\n",
       "\n",
       "    .dataframe thead th {\n",
       "        text-align: right;\n",
       "    }\n",
       "</style>\n",
       "<table border=\"1\" class=\"dataframe\">\n",
       "  <thead>\n",
       "    <tr style=\"text-align: right;\">\n",
       "      <th></th>\n",
       "      <th>date</th>\n",
       "      <th>category</th>\n",
       "      <th>value</th>\n",
       "    </tr>\n",
       "  </thead>\n",
       "  <tbody>\n",
       "    <tr>\n",
       "      <th>0</th>\n",
       "      <td>2020-02-02</td>\n",
       "      <td>B</td>\n",
       "      <td>0.887855</td>\n",
       "    </tr>\n",
       "    <tr>\n",
       "      <th>1</th>\n",
       "      <td>2020-02-18</td>\n",
       "      <td>E</td>\n",
       "      <td>0.090392</td>\n",
       "    </tr>\n",
       "    <tr>\n",
       "      <th>2</th>\n",
       "      <td>2020-02-25</td>\n",
       "      <td>B</td>\n",
       "      <td>0.208075</td>\n",
       "    </tr>\n",
       "    <tr>\n",
       "      <th>3</th>\n",
       "      <td>2020-02-12</td>\n",
       "      <td>D</td>\n",
       "      <td>0.878416</td>\n",
       "    </tr>\n",
       "    <tr>\n",
       "      <th>4</th>\n",
       "      <td>2020-02-19</td>\n",
       "      <td>B</td>\n",
       "      <td>0.724702</td>\n",
       "    </tr>\n",
       "  </tbody>\n",
       "</table>\n",
       "</div>"
      ],
      "text/plain": [
       "        date category     value\n",
       "0 2020-02-02        B  0.887855\n",
       "1 2020-02-18        E  0.090392\n",
       "2 2020-02-25        B  0.208075\n",
       "3 2020-02-12        D  0.878416\n",
       "4 2020-02-19        B  0.724702"
      ]
     },
     "execution_count": 5,
     "metadata": {},
     "output_type": "execute_result"
    }
   ],
   "source": [
    "df = extract_data()\n",
    "df.head()"
   ]
  },
  {
   "cell_type": "markdown",
   "metadata": {},
   "source": [
    "# Transform"
   ]
  },
  {
   "cell_type": "code",
   "execution_count": 6,
   "metadata": {},
   "outputs": [
    {
     "data": {
      "text/html": [
       "<div>\n",
       "<style scoped>\n",
       "    .dataframe tbody tr th:only-of-type {\n",
       "        vertical-align: middle;\n",
       "    }\n",
       "\n",
       "    .dataframe tbody tr th {\n",
       "        vertical-align: top;\n",
       "    }\n",
       "\n",
       "    .dataframe thead th {\n",
       "        text-align: right;\n",
       "    }\n",
       "</style>\n",
       "<table border=\"1\" class=\"dataframe\">\n",
       "  <thead>\n",
       "    <tr style=\"text-align: right;\">\n",
       "      <th>category</th>\n",
       "      <th>A</th>\n",
       "      <th>B</th>\n",
       "      <th>C</th>\n",
       "      <th>D</th>\n",
       "      <th>E</th>\n",
       "    </tr>\n",
       "    <tr>\n",
       "      <th>date</th>\n",
       "      <th></th>\n",
       "      <th></th>\n",
       "      <th></th>\n",
       "      <th></th>\n",
       "      <th></th>\n",
       "    </tr>\n",
       "  </thead>\n",
       "  <tbody>\n",
       "    <tr>\n",
       "      <th>2020-02-01</th>\n",
       "      <td>0.021274</td>\n",
       "      <td>1.707622</td>\n",
       "      <td>0.921471</td>\n",
       "      <td>1.026804</td>\n",
       "      <td>0.870494</td>\n",
       "    </tr>\n",
       "    <tr>\n",
       "      <th>2020-02-02</th>\n",
       "      <td>1.028284</td>\n",
       "      <td>1.666561</td>\n",
       "      <td>0.405298</td>\n",
       "      <td>0.963072</td>\n",
       "      <td>1.642677</td>\n",
       "    </tr>\n",
       "    <tr>\n",
       "      <th>2020-02-03</th>\n",
       "      <td>1.143748</td>\n",
       "      <td>0.038153</td>\n",
       "      <td>0.710983</td>\n",
       "      <td>2.887063</td>\n",
       "      <td>1.693331</td>\n",
       "    </tr>\n",
       "    <tr>\n",
       "      <th>2020-02-04</th>\n",
       "      <td>1.761424</td>\n",
       "      <td>NaN</td>\n",
       "      <td>0.836983</td>\n",
       "      <td>1.524415</td>\n",
       "      <td>1.245928</td>\n",
       "    </tr>\n",
       "    <tr>\n",
       "      <th>2020-02-05</th>\n",
       "      <td>NaN</td>\n",
       "      <td>0.916402</td>\n",
       "      <td>0.813088</td>\n",
       "      <td>0.605706</td>\n",
       "      <td>1.879331</td>\n",
       "    </tr>\n",
       "  </tbody>\n",
       "</table>\n",
       "</div>"
      ],
      "text/plain": [
       "category           A         B         C         D         E\n",
       "date                                                        \n",
       "2020-02-01  0.021274  1.707622  0.921471  1.026804  0.870494\n",
       "2020-02-02  1.028284  1.666561  0.405298  0.963072  1.642677\n",
       "2020-02-03  1.143748  0.038153  0.710983  2.887063  1.693331\n",
       "2020-02-04  1.761424       NaN  0.836983  1.524415  1.245928\n",
       "2020-02-05       NaN  0.916402  0.813088  0.605706  1.879331"
      ]
     },
     "execution_count": 6,
     "metadata": {},
     "output_type": "execute_result"
    }
   ],
   "source": [
    "df_transformed = transform_data(df)\n",
    "df_transformed.head()"
   ]
  },
  {
   "cell_type": "code",
   "execution_count": 7,
   "metadata": {},
   "outputs": [
    {
     "data": {
      "text/html": [
       "<div>\n",
       "<style scoped>\n",
       "    .dataframe tbody tr th:only-of-type {\n",
       "        vertical-align: middle;\n",
       "    }\n",
       "\n",
       "    .dataframe tbody tr th {\n",
       "        vertical-align: top;\n",
       "    }\n",
       "\n",
       "    .dataframe thead th {\n",
       "        text-align: right;\n",
       "    }\n",
       "</style>\n",
       "<table border=\"1\" class=\"dataframe\">\n",
       "  <thead>\n",
       "    <tr style=\"text-align: right;\">\n",
       "      <th>category</th>\n",
       "      <th>A</th>\n",
       "      <th>B</th>\n",
       "      <th>D</th>\n",
       "    </tr>\n",
       "    <tr>\n",
       "      <th>date</th>\n",
       "      <th></th>\n",
       "      <th></th>\n",
       "      <th></th>\n",
       "    </tr>\n",
       "  </thead>\n",
       "  <tbody>\n",
       "    <tr>\n",
       "      <th>2020-02-16</th>\n",
       "      <td>2.523539</td>\n",
       "      <td>1.032082</td>\n",
       "      <td>1.941238</td>\n",
       "    </tr>\n",
       "    <tr>\n",
       "      <th>2020-02-17</th>\n",
       "      <td>2.379575</td>\n",
       "      <td>1.104002</td>\n",
       "      <td>1.610906</td>\n",
       "    </tr>\n",
       "    <tr>\n",
       "      <th>2020-02-18</th>\n",
       "      <td>NaN</td>\n",
       "      <td>0.553717</td>\n",
       "      <td>2.474169</td>\n",
       "    </tr>\n",
       "    <tr>\n",
       "      <th>2020-02-19</th>\n",
       "      <td>1.546838</td>\n",
       "      <td>5.352832</td>\n",
       "      <td>0.362284</td>\n",
       "    </tr>\n",
       "    <tr>\n",
       "      <th>2020-02-20</th>\n",
       "      <td>1.940993</td>\n",
       "      <td>0.814750</td>\n",
       "      <td>1.172151</td>\n",
       "    </tr>\n",
       "  </tbody>\n",
       "</table>\n",
       "</div>"
      ],
      "text/plain": [
       "category           A         B         D\n",
       "date                                    \n",
       "2020-02-16  2.523539  1.032082  1.941238\n",
       "2020-02-17  2.379575  1.104002  1.610906\n",
       "2020-02-18       NaN  0.553717  2.474169\n",
       "2020-02-19  1.546838  5.352832  0.362284\n",
       "2020-02-20  1.940993  0.814750  1.172151"
      ]
     },
     "execution_count": 7,
     "metadata": {},
     "output_type": "execute_result"
    }
   ],
   "source": [
    "# and we filter using the given parameters\n",
    "df_final = df_transformed.loc[start_date:end_date, categories]\n",
    "df_final"
   ]
  },
  {
   "cell_type": "markdown",
   "metadata": {},
   "source": [
    "## Load data"
   ]
  },
  {
   "cell_type": "code",
   "execution_count": 8,
   "metadata": {},
   "outputs": [],
   "source": [
    "load_data(df_final)"
   ]
  },
  {
   "cell_type": "markdown",
   "metadata": {},
   "source": [
    "## Job summary\n",
    "Now as the actual ETL is finished we can create a report to inform the maintainer about the batch.\n"
   ]
  },
  {
   "cell_type": "code",
   "execution_count": 9,
   "metadata": {
    "tags": [
     "summary"
    ]
   },
   "outputs": [
    {
     "data": {
      "text/html": [
       "\n",
       "<h4>Job Summary</h4>\n",
       "<ul style=\"list-style-type:square;\">\n",
       "  <li>Time span loaded: 2020-02-16 - 2020-02-20</li>\n",
       "  <li>Categories: A, B, D</li>\n",
       "  <li>Size (rows): 5</li>\n",
       "  <li>Mean: 1.79</li>\n",
       "</ul>\n"
      ],
      "text/plain": [
       "<IPython.core.display.HTML object>"
      ]
     },
     "execution_count": 9,
     "metadata": {},
     "output_type": "execute_result"
    }
   ],
   "source": [
    "# This cell produces a string output that is read by the parent process to do a nice\n",
    "# html report to send to the job maintainer informing the most relevant stuff about\n",
    "# the data in this job.\n",
    "\n",
    "# We have tagged this cell as 'summary'\n",
    "from IPython.core.display import HTML\n",
    "HTML(f\"\"\"\n",
    "<h4>Job Summary</h4>\n",
    "<ul style=\"list-style-type:square;\">\n",
    "  <li>Time span loaded: {df_final.index.min():%Y-%m-%d} - {df_final.index.max():%Y-%m-%d}</li>\n",
    "  <li>Categories: {', '.join(categories)}</li>\n",
    "  <li>Size (rows): {df_final.shape[0]}</li>\n",
    "  <li>Mean: {df_final.mean().mean():.2f}</li>\n",
    "</ul>\n",
    "\"\"\")"
   ]
  },
  {
   "cell_type": "markdown",
   "metadata": {},
   "source": [
    "## Visualizing the data \n",
    "Then we leave some plots to show how this job's data look in detail in case of later debugging. These can be more experimential as if the job crashes here, it's not that big of a deal."
   ]
  },
  {
   "cell_type": "code",
   "execution_count": 10,
   "metadata": {},
   "outputs": [
    {
     "data": {
      "text/plain": [
       "<matplotlib.axes._subplots.AxesSubplot at 0x20cd1464d30>"
      ]
     },
     "execution_count": 10,
     "metadata": {},
     "output_type": "execute_result"
    },
    {
     "data": {
      "image/png": "[encoded data removed]",
      "text/plain": [
       "<Figure size 1080x720 with 1 Axes>"
      ]
     },
     "metadata": {
      "needs_background": "light"
     },
     "output_type": "display_data"
    }
   ],
   "source": [
    "df_final.plot(figsize=(15, 10))"
   ]
  },
  {
   "cell_type": "code",
   "execution_count": 11,
   "metadata": {},
   "outputs": [
    {
     "data": {
      "text/plain": [
       "<matplotlib.axes._subplots.AxesSubplot at 0x20cd1bffc50>"
      ]
     },
     "execution_count": 11,
     "metadata": {},
     "output_type": "execute_result"
    },
    {
     "data": {
      "image/png": "[encoded data removed]",
      "text/plain": [
       "<Figure size 1080x720 with 1 Axes>"
      ]
     },
     "metadata": {
      "needs_background": "light"
     },
     "output_type": "display_data"
    }
   ],
   "source": [
    "df_final.plot(kind=\"bar\", figsize=(15, 10))"
   ]
  }
 ],
 "metadata": {
  "celltoolbar": "Tags",
  "kernelspec": {
   "display_name": "Python 3",
   "language": "python",
   "name": "python3"
  },
  "language_info": {
   "codemirror_mode": {
    "name": "ipython",
    "version": 3
   },
   "file_extension": ".py",
   "mimetype": "text/x-python",
   "name": "python",
   "nbconvert_exporter": "python",
   "pygments_lexer": "ipython3",
   "version": "3.6.6"
  }
 },
 "nbformat": 4,
 "nbformat_minor": 4
}
